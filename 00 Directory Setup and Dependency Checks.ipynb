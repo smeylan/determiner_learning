{
 "cells": [
  {
   "cell_type": "markdown",
   "metadata": {},
   "source": [
    "# Acknowledgements"
   ]
  },
  {
   "cell_type": "markdown",
   "metadata": {},
   "source": [
    "$\\texttt{lib/detlearn_preparation.R}$ has a tweaked version of Melissa Kline's CLANtoR script from http://www.mit.edu/~mekline/resources.html. The results are substantively similar, though this version handles some exceptions that the original didn't. "
   ]
  },
  {
   "cell_type": "markdown",
   "metadata": {},
   "source": [
    "# Directory Setup"
   ]
  },
  {
   "cell_type": "markdown",
   "metadata": {},
   "source": [
    "#### Included directories include:\n",
    "- $\\texttt{lib/}$ : library of functions for data processing, running the model, and analyzing the results\n",
    "- $\\texttt{model/}$ : JAGS model specifications\n",
    "- $\\texttt{speechome/}$ : anonymized Speechome data\n",
    "\n",
    "In addition to these directories, several other directories are necessary for storing the intermediate files "
   ]
  },
  {
   "cell_type": "code",
   "execution_count": 12,
   "metadata": {
    "collapsed": true
   },
   "outputs": [],
   "source": [
    "# Create directories for additional intermediate data storage \n",
    "# as well as the final results\n",
    "\n",
    "# for the intermediate files needed for the statistical POS tagger\n",
    "dir.create('posTaggingFiles/', showWarnings=F)\n",
    "\n",
    "# for the tagged CHILDES files\n",
    "dir.create('childes/', showWarnings=F)\n",
    "\n",
    "#for the processed corpora fed to the model\n",
    "dir.create('processedCorpora/', showWarnings=F)\n",
    "\n",
    "#for the fitted models\n",
    "dir.create('fitModels/', showWarnings=F)\n",
    "\n",
    "#for summary data, tables, and figures on the fitted models\n",
    "dir.create('results/', showWarnings=F)"
   ]
  },
  {
   "cell_type": "markdown",
   "metadata": {},
   "source": [
    "# Libraries"
   ]
  },
  {
   "cell_type": "markdown",
   "metadata": {},
   "source": [
    "JAGS is used for Markov chain Monte Carlo. Using JAGS requires a stand-alone C program (http://mcmc-jags.sourceforge.net/) as well as libraries for R bindings: $\\texttt{rjags}$ and $\\texttt{coda}$. To check if JAGS is installed:"
   ]
  },
  {
   "cell_type": "code",
   "execution_count": 8,
   "metadata": {
    "collapsed": false
   },
   "outputs": [
    {
     "data": {
      "text/html": [
       "'/usr/bin/jags'"
      ],
      "text/latex": [
       "'/usr/bin/jags'"
      ],
      "text/markdown": [
       "'/usr/bin/jags'"
      ],
      "text/plain": [
       "[1] \"/usr/bin/jags\""
      ]
     },
     "execution_count": 8,
     "metadata": {},
     "output_type": "execute_result"
    }
   ],
   "source": [
    "system('which jags', intern=T)"
   ]
  },
  {
   "cell_type": "markdown",
   "metadata": {},
   "source": [
    "If the above returns a warning rather than a path, install JAGS"
   ]
  },
  {
   "cell_type": "markdown",
   "metadata": {},
   "source": [
    "The following R libraries are required. Install with $\\texttt{install.packages()}$; JAGS may require additional configuration of system variables"
   ]
  },
  {
   "cell_type": "code",
   "execution_count": null,
   "metadata": {
    "collapsed": true
   },
   "outputs": [],
   "source": [
    "library('plyr')\n",
    "library('coda')\n",
    "library('jags')\n",
    "library('parallel')\n",
    "library('ggplot2')\n",
    "library('gridExtra')"
   ]
  },
  {
   "cell_type": "markdown",
   "metadata": {},
   "source": [
    "The NLTK library for Python is also necessary for processing the corpora. If the following throws an error, you may need to install it with $\\texttt{sudo pip install -U nltk}$\n",
    "on Linux or OS X"
   ]
  },
  {
   "cell_type": "code",
   "execution_count": 9,
   "metadata": {
    "collapsed": false
   },
   "outputs": [
    {
     "data": {
      "text/html": [],
      "text/latex": [],
      "text/markdown": [],
      "text/plain": [
       "character(0)"
      ]
     },
     "execution_count": 9,
     "metadata": {},
     "output_type": "execute_result"
    }
   ],
   "source": [
    "system(\"python -c 'import nltk'\", intern=T)"
   ]
  },
  {
   "cell_type": "markdown",
   "metadata": {},
   "source": [
    "If the above returns an error rather than an empty string, install NLTK"
   ]
  },
  {
   "cell_type": "markdown",
   "metadata": {},
   "source": [
    "Finally, part-of-speech (POS) tagging requires the Stanford Part of Speech tagger, http://nlp.stanford.edu/software/tagger.shtml. The path to the POS tagger is hard coded in 01 Prepare CHILDES Datasets."
   ]
  }
 ],
 "metadata": {
  "kernelspec": {
   "display_name": "R",
   "language": "R",
   "name": "ir"
  },
  "language_info": {
   "codemirror_mode": "r",
   "file_extension": ".r",
   "mimetype": "text/x-r-source",
   "name": "R",
   "pygments_lexer": "r",
   "version": "3.2.3"
  }
 },
 "nbformat": 4,
 "nbformat_minor": 0
}
