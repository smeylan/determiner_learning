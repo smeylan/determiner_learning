{
 "cells": [
  {
   "cell_type": "code",
   "execution_count": 1,
   "metadata": {
    "collapsed": false
   },
   "outputs": [
    {
     "name": "stderr",
     "output_type": "stream",
     "text": [
      "Linked to JAGS 3.4.0\n",
      "Loaded modules: basemod,bugs\n"
     ]
    }
   ],
   "source": [
    "source('lib/detlearn_model.R')\n",
    "source('lib/detlearn_utils.R')\n",
    "library('plyr')\n",
    "library('coda')\n",
    "library('rjags')\n",
    "library('parallel')"
   ]
  },
  {
   "cell_type": "markdown",
   "metadata": {},
   "source": [
    "# Run Single Window Model"
   ]
  },
  {
   "cell_type": "code",
   "execution_count": 2,
   "metadata": {
    "collapsed": true
   },
   "outputs": [],
   "source": [
    "# Multicore: set to False for debugging, otherwise True\n",
    "parallelize = T"
   ]
  },
  {
   "cell_type": "code",
   "execution_count": null,
   "metadata": {
    "collapsed": false
   },
   "outputs": [
    {
     "data": {
      "text/html": [
       "<table>\n",
       "<thead><tr><th></th><th scope=col>corpus</th><th scope=col>analysis</th><th scope=col>morphology</th><th scope=col>model</th><th scope=col>windowSize</th><th scope=col>skip</th><th scope=col>datasetName</th><th scope=col>inputDirName</th><th scope=col>outputDirName</th></tr></thead>\n",
       "<tbody>\n",
       "\t<tr><th scope=row>1</th><td>Bloom70</td><td>determiners</td><td>all</td><td>linking</td><td>1024</td><td>256</td><td>standard</td><td>processedCorpora/</td><td>mcmc/</td></tr>\n",
       "</tbody>\n",
       "</table>\n"
      ],
      "text/latex": [
       "\\begin{tabular}{r|lllllllll}\n",
       "  & corpus & analysis & morphology & model & windowSize & skip & datasetName & inputDirName & outputDirName\\\\\n",
       "\\hline\n",
       "\t1 & Bloom70 & determiners & all & linking & 1024 & 256 & standard & processedCorpora/ & mcmc/\\\\\n",
       "\\end{tabular}\n"
      ],
      "text/plain": [
       "   corpus    analysis morphology   model windowSize skip datasetName\n",
       "1 Bloom70 determiners        all linking       1024  256    standard\n",
       "       inputDirName outputDirName\n",
       "1 processedCorpora/         mcmc/"
      ]
     },
     "execution_count": 21,
     "metadata": {},
     "output_type": "execute_result"
    }
   ],
   "source": [
    "testModel = getSubmissionStruct(\n",
    "        corpora = c('Bloom70'),\n",
    "        analyses = c('determiners'),\n",
    "        morphologies = c('all'),\n",
    "        model = c('linking'),\n",
    "        datasetName = c('standard'),\n",
    "        windowSize = 1024,\n",
    "        skip = 256,\n",
    "        inputDirName = 'processedCorpora/',\n",
    "        outputDirName = 'mcmc/'\n",
    ")\n",
    "\n",
    "success = lapply(1:nrow(testModel), function(x){\n",
    "        argument = testModel[x,]\n",
    "        runDETLEARNmodel(corpus=argument$corpus,analysis=argument$analysis,morphology=argument$morphology, \n",
    "        model=argument$model, withImputation=T,windowSize=argument$windowSize, skip=argument$skip, \n",
    "        n.adapt=2000,n.update=2000,n.chains=5, thinning=5,countTrace=F, datasetName=argument$datasetName,\n",
    "        inputDirName = argument$inputDirName, outputDirName = argument$outputDirName, parallelize=parallelize)\n",
    "})"
   ]
  },
  {
   "cell_type": "markdown",
   "metadata": {},
   "source": [
    "# Run All Models"
   ]
  },
  {
   "cell_type": "markdown",
   "metadata": {},
   "source": [
    "### Sliding Window Models"
   ]
  },
  {
   "cell_type": "code",
   "execution_count": null,
   "metadata": {
    "collapsed": true
   },
   "outputs": [],
   "source": [
    "determinerLearningSW = getSubmissionStruct(\n",
    "        corpora = c('Bloom70','Brown', 'Providence','Kuczaj','Suppes','Speechome','Manchester','Thomas', 'Sachs'),\n",
    "        analyses = c('determiners'),\n",
    "        morphologies = c('all', 'none','singulars', \n",
    "        model = c('linking'),\n",
    "        datasetName = c('standard','LN','FN'), \n",
    "        windowSize = 1024,\n",
    "        skip = 256,\n",
    "        inputDirName = 'processedCorpora/',\n",
    "        outputDirName = 'mcmc/'\n",
    ")\n",
    "\n",
    "success = lapply(1:nrow(determinerLearningSW), function(x){\n",
    "        argument = determinerLearningSW[x,]\n",
    "        runDETLEARNmodel(corpus=argument$corpus,analysis=argument$analysis,morphology=argument$morphology, \n",
    "        model=argument$model, withImputation=T, windowSize=argument$windowSize, skip=argument$skip,\n",
    "        n.adapt=2000,n.update=2000,n.chains=5, thinning=5,countTrace=F, datasetName=argument$datasetName,\n",
    "        inputDirName = argument$inputDirName, outputDirName = argument$outputDirName, parallelize=parallelize)\n",
    "})"
   ]
  },
  {
   "cell_type": "markdown",
   "metadata": {},
   "source": [
    "### Split Half Models"
   ]
  },
  {
   "cell_type": "code",
   "execution_count": null,
   "metadata": {
    "collapsed": false
   },
   "outputs": [],
   "source": [
    "determinerLearningLC = getSubmissionStruct(\n",
    "        corpora =  c('Bloom70','Brown', 'Providence','Kuczaj','Suppes','Speechome','Manchester','Thomas','Sachs'),\n",
    "        analyses = c('determiners'),\n",
    "        morphologies = c('all','none','singulars'), \n",
    "        model = c('linkingChange'),\n",
    "        datasetName = c('standard','LN','FN'),\n",
    "        windowSize = 'half',\n",
    "        skip = NA,\n",
    "        inputDirName = 'processedCorpora/',\n",
    "        outputDirName = 'mcmc/'\n",
    ")\n",
    "\n",
    "success = mclapply2(1:nrow(determinerLearningLC), function(x){\n",
    "        argument = determinerLearningLC[x,]\n",
    "        runDETLEARNmodel(corpus=argument$corpus,analysis=argument$analysis,morphology=argument$morphology, \n",
    "        model=argument$model, withImputation=T,windowSize=argument$windowSize, skip=argument$skip, \n",
    "        n.adapt=2000,n.update=2000,n.chains=5, thinning=5,countTrace=F, datasetName=argument$datasetName, \n",
    "        inputDirName = argument$inputDirName, outputDirName = argument$outputDirName, parallelize=F)\n",
    "})"
   ]
  }
 ],
 "metadata": {
  "kernelspec": {
   "display_name": "R",
   "language": "R",
   "name": "ir"
  },
  "language_info": {
   "codemirror_mode": "r",
   "file_extension": ".r",
   "mimetype": "text/x-r-source",
   "name": "R",
   "pygments_lexer": "r",
   "version": "3.2.3"
  }
 },
 "nbformat": 4,
 "nbformat_minor": 0
}
