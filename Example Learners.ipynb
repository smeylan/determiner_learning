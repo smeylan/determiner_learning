{
 "cells": [
  {
   "cell_type": "code",
   "execution_count": 1,
   "metadata": {
    "collapsed": false
   },
   "outputs": [
    {
     "name": "stderr",
     "output_type": "stream",
     "text": [
      "Loading required package: coda\n",
      "Linked to JAGS 4.3.0\n",
      "Loaded modules: basemod,bugs\n"
     ]
    }
   ],
   "source": [
    "library(ggplot2)\n",
    "library(rjags)\n",
    "options(repr.plot.width=3, repr.plot.height=3)"
   ]
  },
  {
   "cell_type": "code",
   "execution_count": 8,
   "metadata": {
    "collapsed": true
   },
   "outputs": [],
   "source": [
    "runModel <- function(N.observed,r.observed,n.iter=1000) {\n",
    "  jags.data <- list(N.observed=N.observed,r.observed=r.observed,eta=1)\n",
    "  m <- jags.model(\"models/linking-model-jags4.0.bug\",data=jags.data,inits=list(.RNG.name=\"base::Wichmann-Hill\",.RNG.seed=1))\n",
    "  update(m,10000)\n",
    "  coda.res <- coda.samples(m,c(\"mu\",\"nu\",\"eta\"),n.iter=n.iter)\n",
    "  head(coda.res)\n",
    "  #plot(coda.res)\n",
    "  nu.posterior <- data.frame(nu=as.numeric(coda.res[[1]][,\"nu\"]))\n",
    "  print(mean(nu.posterior$nu > 0.1))\n",
    "  result.graph <- ggplot(nu.posterior,aes(nu)) + geom_density() + geom_rug() + scale_x_continuous(limits=c(0,10)\n",
    "    ) + xlab(expression(nu)) + ylab(expression(paste(\"P(\",nu,\"|\",\"data)\"))) + theme_bw()\n",
    "  return(list(nu.posterior=nu.posterior,graph=result.graph))\n",
    "}"
   ]
  },
  {
   "cell_type": "markdown",
   "metadata": {},
   "source": [
    "# Prior"
   ]
  },
  {
   "cell_type": "code",
   "execution_count": 3,
   "metadata": {
    "collapsed": false
   },
   "outputs": [
    {
     "data": {},
     "metadata": {},
     "output_type": "display_data"
    },
    {
     "data": {
      "image/png": "[encoded data removed]",
      "text/plain": [
       "plot without title"
      ]
     },
     "metadata": {},
     "output_type": "display_data"
    }
   ],
   "source": [
    "prior.df <- data.frame(x=c(0,10),y=c(0.1,0.1))\n",
    "ggplot(prior.df,aes(x=x,y=y)) + geom_line() + scale_y_continuous(limits=c(0,0.2)) + xlab(expression(nu)) + ylab(expression(P(nu))) + theme_bw()\n",
    "#ggsave(\"nu-prior.pdf\",height=3,width=3)"
   ]
  },
  {
   "cell_type": "code",
   "execution_count": 6,
   "metadata": {
    "collapsed": true
   },
   "outputs": [],
   "source": [
    "N.observed <- matrix(c(10,10,100,100),2,2)"
   ]
  },
  {
   "cell_type": "markdown",
   "metadata": {},
   "source": [
    "# Learners"
   ]
  },
  {
   "cell_type": "markdown",
   "metadata": {},
   "source": [
    "### Overregularizer"
   ]
  },
  {
   "cell_type": "code",
   "execution_count": 9,
   "metadata": {
    "collapsed": false
   },
   "outputs": [
    {
     "name": "stdout",
     "output_type": "stream",
     "text": [
      "Compiling model graph\n",
      "   Resolving undeclared variables\n",
      "   Allocating nodes\n",
      "Graph information:\n",
      "   Observed stochastic nodes: 3\n",
      "   Unobserved stochastic nodes: 4\n",
      "   Total graph size: 27\n",
      "\n",
      "Initializing model\n",
      "\n",
      "[1] 0.995\n"
     ]
    },
    {
     "data": {
      "image/png": "[encoded data removed]",
      "text/plain": [
       "plot without title"
      ]
     },
     "metadata": {},
     "output_type": "display_data"
    }
   ],
   "source": [
    "r.observed <- matrix(c(2,8,50,50),2,2)\n",
    "print(runModel(N.observed,r.observed)$graph)\n",
    "#ggsave(\"posterior-nu-overregularizer.pdf\",height=3,width=3)\n"
   ]
  },
  {
   "cell_type": "markdown",
   "metadata": {},
   "source": [
    "### Efficient Learner"
   ]
  },
  {
   "cell_type": "code",
   "execution_count": 13,
   "metadata": {
    "collapsed": false
   },
   "outputs": [
    {
     "name": "stdout",
     "output_type": "stream",
     "text": [
      "Compiling model graph\n",
      "   Resolving undeclared variables\n",
      "   Allocating nodes\n",
      "Graph information:\n",
      "   Observed stochastic nodes: 3\n",
      "   Unobserved stochastic nodes: 4\n",
      "   Total graph size: 27\n",
      "\n",
      "Initializing model\n",
      "\n",
      "[1] 0.984\n"
     ]
    },
    {
     "data": {
      "image/png": "[encoded data removed]",
      "text/plain": [
       "plot without title"
      ]
     },
     "metadata": {},
     "output_type": "display_data"
    }
   ],
   "source": [
    "r.observed <- matrix(c(2,8,20,80),2,2)\n",
    "print(runModel(N.observed,r.observed)$graph)\n",
    "#ggsave(\"posterior-nu-efficient-learner.pdf\",height=3,width=3)"
   ]
  },
  {
   "cell_type": "markdown",
   "metadata": {},
   "source": [
    "### Island Learner"
   ]
  },
  {
   "cell_type": "code",
   "execution_count": 15,
   "metadata": {
    "collapsed": false
   },
   "outputs": [
    {
     "name": "stdout",
     "output_type": "stream",
     "text": [
      "Compiling model graph\n",
      "   Resolving undeclared variables\n",
      "   Allocating nodes\n",
      "Graph information:\n",
      "   Observed stochastic nodes: 3\n",
      "   Unobserved stochastic nodes: 4\n",
      "   Total graph size: 27\n",
      "\n",
      "Initializing model\n",
      "\n",
      "[1] 0.788\n"
     ]
    },
    {
     "data": {
      "image/png": "[encoded data removed]",
      "text/plain": [
       "plot without title"
      ]
     },
     "metadata": {},
     "output_type": "display_data"
    }
   ],
   "source": [
    "r.observed <- matrix(c(2,8,0,100),2,2)\n",
    "print(runModel(N.observed,r.observed)$graph)\n",
    "#ggsave(\"posterior-nu-island-learner.pdf\",height=3,width=3)"
   ]
  },
  {
   "cell_type": "markdown",
   "metadata": {},
   "source": [
    "### Vanilla Generalizer"
   ]
  },
  {
   "cell_type": "code",
   "execution_count": 18,
   "metadata": {
    "collapsed": false
   },
   "outputs": [
    {
     "name": "stdout",
     "output_type": "stream",
     "text": [
      "Compiling model graph\n",
      "   Resolving undeclared variables\n",
      "   Allocating nodes\n",
      "Graph information:\n",
      "   Observed stochastic nodes: 3\n",
      "   Unobserved stochastic nodes: 4\n",
      "   Total graph size: 27\n",
      "\n",
      "Initializing model\n",
      "\n",
      "[1] 0.996\n"
     ]
    },
    {
     "data": {
      "image/png": "[encoded data removed]",
      "text/plain": [
       "plot without title"
      ]
     },
     "metadata": {},
     "output_type": "display_data"
    }
   ],
   "source": [
    "r.observed <- matrix(c(2,8,30,70),2,2)\n",
    "print(runModel(N.observed,r.observed)$graph)\n",
    "#ggsave(\"posterior-nu-vanilla-generalizer.pdf\",height=3,width=3)"
   ]
  },
  {
   "cell_type": "markdown",
   "metadata": {},
   "source": [
    "# Wug Test"
   ]
  },
  {
   "cell_type": "code",
   "execution_count": 20,
   "metadata": {
    "collapsed": false
   },
   "outputs": [
    {
     "name": "stdout",
     "output_type": "stream",
     "text": [
      "Compiling model graph\n",
      "   Resolving undeclared variables\n",
      "   Allocating nodes\n",
      "Graph information:\n",
      "   Observed stochastic nodes: 2\n",
      "   Unobserved stochastic nodes: 3\n",
      "   Total graph size: 19\n",
      "\n",
      "Initializing model\n",
      "\n",
      "[1] 1\n"
     ]
    },
    {
     "data": {
      "image/png": "[encoded data removed]",
      "text/plain": [
       "plot without title"
      ]
     },
     "metadata": {},
     "output_type": "display_data"
    }
   ],
   "source": [
    "N.observed <- matrix(c(10,1),1,2)\n",
    "r.observed <- matrix(c(0,1),1,2)\n",
    "print(runModel(N.observed,r.observed)$graph)\n",
    "#ggsave(\"posterior-nu-wug-test.pdf\",height=3,width=3)"
   ]
  }
 ],
 "metadata": {
  "kernelspec": {
   "display_name": "R",
   "language": "R",
   "name": "ir"
  },
  "language_info": {
   "codemirror_mode": "r",
   "file_extension": ".r",
   "mimetype": "text/x-r-source",
   "name": "R",
   "pygments_lexer": "r",
   "version": "3.4.2"
  }
 },
 "nbformat": 4,
 "nbformat_minor": 0
}
